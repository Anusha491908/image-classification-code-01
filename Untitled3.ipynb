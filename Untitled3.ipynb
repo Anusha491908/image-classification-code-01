{
  "nbformat": 4,
  "nbformat_minor": 0,
  "metadata": {
    "colab": {
      "provenance": []
    },
    "kernelspec": {
      "name": "python3",
      "display_name": "Python 3"
    },
    "language_info": {
      "name": "python"
    }
  },
  "cells": [
    {
      "cell_type": "markdown",
      "source": [],
      "metadata": {
        "id": "2muv_IGViTLD"
      }
    },
    {
      "cell_type": "markdown",
      "source": [
        "download the datasets"
      ],
      "metadata": {
        "id": "TItmMdmRkzzv"
      }
    },
    {
      "cell_type": "code",
      "source": [
        "! wget https://drive.google.com/drive/my-driv"
      ],
      "metadata": {
        "colab": {
          "base_uri": "https://localhost:8080/"
        },
        "id": "D0d1Xj3TtyfI",
        "outputId": "184b9a9d-aa11-41ec-e785-a675fd6e96f0"
      },
      "execution_count": 18,
      "outputs": [
        {
          "output_type": "stream",
          "name": "stdout",
          "text": [
            "--2023-03-14 06:05:13--  https://drive.google.com/drive/my-driv\n",
            "Resolving drive.google.com (drive.google.com)... 108.177.13.113, 108.177.13.100, 108.177.13.139, ...\n",
            "Connecting to drive.google.com (drive.google.com)|108.177.13.113|:443... connected.\n",
            "HTTP request sent, awaiting response... 404 Not Found\n",
            "2023-03-14 06:05:13 ERROR 404: Not Found.\n",
            "\n"
          ]
        }
      ]
    },
    {
      "cell_type": "code",
      "source": [
        "!unzipC:\\Users\\User\\Downloads"
      ],
      "metadata": {
        "colab": {
          "base_uri": "https://localhost:8080/"
        },
        "id": "Cmi_tTbRAdAA",
        "outputId": "a7e9de2e-0ff2-4f2d-beab-5e3743c4ae24"
      },
      "execution_count": 37,
      "outputs": [
        {
          "output_type": "stream",
          "name": "stdout",
          "text": [
            "/bin/bash: unzipC:UsersUserDownloads: command not found\n"
          ]
        }
      ]
    },
    {
      "cell_type": "code",
      "source": [
        "import numpy as np \n",
        "import pandas as pd\n",
        "from PIL import Image  \n",
        "import matplotlib.pyplot as plt\n",
        "import cv2\n",
        "\n"
      ],
      "metadata": {
        "id": "RxPEL-ycXJqJ"
      },
      "execution_count": 52,
      "outputs": []
    },
    {
      "cell_type": "code",
      "source": [
        "import os\n",
        "for dirname, _, filenames in os.walk('/kaggle/input'):\n",
        "    for filename in filenames:\n",
        "        pass"
      ],
      "metadata": {
        "id": "hv0TbRRcXmuw"
      },
      "execution_count": 39,
      "outputs": []
    },
    {
      "cell_type": "code",
      "source": [
        "Path =\"/content/drive/MyDrive/catvs dog\""
      ],
      "metadata": {
        "id": "0iYk81e3XviR"
      },
      "execution_count": 40,
      "outputs": []
    },
    {
      "cell_type": "code",
      "source": [
        "catvsdogs ={}"
      ],
      "metadata": {
        "id": "6OgXtbYBYd6R"
      },
      "execution_count": 43,
      "outputs": []
    },
    {
      "cell_type": "code",
      "source": [
        "for dirname, dirlist, filenames in os.walk(Path):\n",
        " catvsdog_name = dirname.split('/')[1]\n",
        " if dirname != Path:\n",
        "        print(\"Number of {catvsdog} images: {len(filenames)}\")\n",
        "        filePaths = []\n",
        "        for filename in filenames:\n",
        "            filePaths.append(os.path.join(Path, dirname, filename))\n",
        "        catvsdogs[catvsdog_name] = filePaths"
      ],
      "metadata": {
        "colab": {
          "base_uri": "https://localhost:8080/"
        },
        "id": "1vT3cvy8YtoR",
        "outputId": "ae087f35-41e3-4520-b401-72ad390c272e"
      },
      "execution_count": 46,
      "outputs": [
        {
          "output_type": "stream",
          "name": "stdout",
          "text": [
            "Number of {catvsdog} images: {len(filenames)}\n",
            "Number of {catvsdog} images: {len(filenames)}\n",
            "Number of {catvsdog} images: {len(filenames)}\n"
          ]
        }
      ]
    },
    {
      "cell_type": "code",
      "source": [
        "fig, ax = plt.subplots(1,4, figsize=(20, 11))\n",
        "img1 = cv2.imread(Path)\n",
        "img1 = cv2.cvtColor\n",
        "\n",
        "\n",
        "img2 = cv2.imread(Path)\n",
        "img2 = cv2.cvtColor\n",
        "\n",
        "\n",
        "img3 = cv2.imread(Path)\n",
        "img3 = cv2.cvtColor\n",
        "\n",
        "\n",
        "plt.show()"
      ],
      "metadata": {
        "colab": {
          "base_uri": "https://localhost:8080/",
          "height": 531
        },
        "id": "icd8Aig7Z8LI",
        "outputId": "c15097ad-7378-4326-be4f-dadc7a2a7ec9"
      },
      "execution_count": 48,
      "outputs": [
        {
          "output_type": "display_data",
          "data": {
            "text/plain": [
              "<Figure size 1440x792 with 4 Axes>"
            ],
            "image/png": "[encoded data removed]"
          },
          "metadata": {
            "needs_background": "light"
          }
        }
      ]
    },
    {
      "cell_type": "code",
      "source": [],
      "metadata": {
        "id": "9HtI9tqWfdqk"
      },
      "execution_count": null,
      "outputs": []
    }
  ]
}